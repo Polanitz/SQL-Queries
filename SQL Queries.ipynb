{
 "cells": [
  {
   "cell_type": "markdown",
   "metadata": {},
   "source": [
    "# 1. SELECT"
   ]
  },
  {
   "cell_type": "markdown",
   "metadata": {},
   "source": [
    "## 1.1.  בחירת הכותרת של השירים מתוך טבלת  albom"
   ]
  },
  {
   "cell_type": "markdown",
   "metadata": {},
   "source": [
    "### SELECT Title from album"
   ]
  },
  {
   "cell_type": "markdown",
   "metadata": {},
   "source": [
    "## 1.2. ואם אני רוצה לקבל רק 5 רשומות"
   ]
  },
  {
   "cell_type": "markdown",
   "metadata": {},
   "source": [
    "### SELECT title from album\n",
    "### limit 5"
   ]
  },
  {
   "cell_type": "markdown",
   "metadata": {},
   "source": [
    "## 1.3. נוסיף את ה- albumid"
   ]
  },
  {
   "cell_type": "markdown",
   "metadata": {},
   "source": [
    "### SELECT title, albumid from album\n",
    "### limit 5"
   ]
  },
  {
   "cell_type": "markdown",
   "metadata": {},
   "source": [
    "# 2. Computed fields"
   ]
  },
  {
   "cell_type": "markdown",
   "metadata": {},
   "source": [
    "## 2.1. לבחור את מספר החשבונית ואת סכום החשבונית ולחשב את המחיר אחרי מע\"מ (ביצוע מניפולציה מתמטית) "
   ]
  },
  {
   "cell_type": "markdown",
   "metadata": {},
   "source": [
    "### Select InvoiceId, total, total*1.17 from Invoice"
   ]
  },
  {
   "cell_type": "markdown",
   "metadata": {},
   "source": [
    "## 2.2. לקרוא לעמודה החדשה בשם Total_vat"
   ]
  },
  {
   "cell_type": "markdown",
   "metadata": {},
   "source": [
    "### Select InvoiceId, total, total*1.17 as total_vat from Invoice"
   ]
  },
  {
   "cell_type": "markdown",
   "metadata": {},
   "source": [
    "## 2.3. להוריד את הטבלאות לקובץ Excel"
   ]
  },
  {
   "cell_type": "markdown",
   "metadata": {},
   "source": [
    "### ללחוץ על F8"
   ]
  },
  {
   "cell_type": "markdown",
   "metadata": {},
   "source": [
    "## 2.4. ואם הייתי רוצה רק את 100 רשומות"
   ]
  },
  {
   "cell_type": "markdown",
   "metadata": {},
   "source": [
    "### Select InvoiceId, total, total*1.17 as total_vat from Invoice limit 100"
   ]
  },
  {
   "cell_type": "markdown",
   "metadata": {},
   "source": [
    "# 3. SELECT concat"
   ]
  },
  {
   "cell_type": "markdown",
   "metadata": {},
   "source": [
    "## 3.1. לקחת שתי מחרוזות ולחבר אותן לעמודה אחת. לקחת את name ו- composer מתוך track ולחבר אותן לעמודה אחת"
   ]
  },
  {
   "cell_type": "markdown",
   "metadata": {},
   "source": [
    "### SELECT concat_ws('===>', name, composer) as name_and_composer from track"
   ]
  },
  {
   "cell_type": "markdown",
   "metadata": {},
   "source": [
    "# 4. Field name - לתת שם חדש לפיצ'ר"
   ]
  },
  {
   "cell_type": "markdown",
   "metadata": {},
   "source": [
    "## 4.1. לקחת את העמודה Total מתוך Invoice ולשונות את שמה ל- price_before_vat ולקחת את העמודה Total_vat ולשנות את שמה ל- price_after_vat "
   ]
  },
  {
   "cell_type": "markdown",
   "metadata": {},
   "source": [
    "### SELECT total as price_before_vat, total*1.17 as price_after_vat from invoice"
   ]
  },
  {
   "cell_type": "markdown",
   "metadata": {},
   "source": [
    "# 5. Unique - להחזיר לנו את הערכים הייחודיים"
   ]
  },
  {
   "cell_type": "markdown",
   "metadata": {},
   "source": [
    "## 5.1. נבקש לקבל את הערים שבהן גרים העובדים מתוך טבלת ה- employee"
   ]
  },
  {
   "cell_type": "markdown",
   "metadata": {},
   "source": [
    "### Select distinct city from employee"
   ]
  },
  {
   "cell_type": "markdown",
   "metadata": {},
   "source": [
    "# 6. Where - לבצע פילטור לפי תנאי"
   ]
  },
  {
   "cell_type": "markdown",
   "metadata": {},
   "source": [
    "## 6.1. תחזיר את כל החשבוניות מתוך טבלת invoice שבהן הסכום היה יותר מ- 10 דולר וגם שהקניה בוצעה בארה\"ב "
   ]
  },
  {
   "cell_type": "markdown",
   "metadata": {},
   "source": [
    "### SELECT * from invoice \n",
    "### where total > 10 and billingcountry = 'USA'"
   ]
  },
  {
   "cell_type": "markdown",
   "metadata": {},
   "source": [
    "## 6.2. אם נרצה לקבל הסבר על השאילתא"
   ]
  },
  {
   "cell_type": "markdown",
   "metadata": {},
   "source": [
    "### ללחוץ על F7"
   ]
  },
  {
   "cell_type": "markdown",
   "metadata": {},
   "source": [
    "# 7. In - אם אנחנו רוצים לבדוק האם יש פיצ'ר מסוים שהערכים בו נמצאים בתוך סט אחר של ערכים ולידיים"
   ]
  },
  {
   "cell_type": "markdown",
   "metadata": {},
   "source": [
    "## 7.1. נמצא את כל החשבוניות מתוך טבלת invoice שמגיעות מארה\"ב או מקנדה"
   ]
  },
  {
   "cell_type": "markdown",
   "metadata": {},
   "source": [
    "### SELECT * from invoice\n",
    "### where billingcountry in ('USA', 'Canada')"
   ]
  },
  {
   "cell_type": "markdown",
   "metadata": {},
   "source": [
    "# 8. Wild cards - חיפוש כל השמות שמתחילות באות מסוימת"
   ]
  },
  {
   "cell_type": "markdown",
   "metadata": {},
   "source": [
    "## 8.1. נמצא את כל המדינות מתוך טבלת invoice שמתחילות באות S ושמסתיימות באות a או ב- da"
   ]
  },
  {
   "cell_type": "markdown",
   "metadata": {},
   "source": [
    "### SELECT * from invoice\n",
    "### where billingcountry like 'S%'"
   ]
  },
  {
   "cell_type": "markdown",
   "metadata": {},
   "source": [
    "## 8.2. נמצא את כל המדינות מתוך טבלת invoice ושמסתיימות באות a"
   ]
  },
  {
   "cell_type": "markdown",
   "metadata": {},
   "source": [
    "### SELECT * from invoice\n",
    "### where billingcountry like '%a'"
   ]
  },
  {
   "cell_type": "markdown",
   "metadata": {},
   "source": [
    "## 8.3. נמצא את כל המדינות מתוך טבלת invoice ושמסתיימות באות da"
   ]
  },
  {
   "cell_type": "markdown",
   "metadata": {},
   "source": [
    "### SELECT * from invoice\n",
    "### where billingcountry like '%da'"
   ]
  },
  {
   "cell_type": "markdown",
   "metadata": {},
   "source": [
    "# 9. Sorting - לבצע מיון לפי פיצ'ר מסוים"
   ]
  },
  {
   "cell_type": "markdown",
   "metadata": {},
   "source": [
    "## 9.1. לקחת את כל המדינות מתוך טבלת invoice ולמיין אותן לפי total בסדר עולה"
   ]
  },
  {
   "cell_type": "markdown",
   "metadata": {},
   "source": [
    "### SELECT * from invoice\n",
    "### order by total asc"
   ]
  },
  {
   "cell_type": "markdown",
   "metadata": {},
   "source": [
    "## 9.2. לקחת את כל המדינות מתוך טבלת invoice ולמיין אותן לפי total בסדר יורד"
   ]
  },
  {
   "cell_type": "markdown",
   "metadata": {},
   "source": [
    "### SELECT * from invoice\n",
    "### order by total desc"
   ]
  },
  {
   "cell_type": "markdown",
   "metadata": {},
   "source": [
    "## 9.3. ואם אני רוצה לקחת את היקר ביותר"
   ]
  },
  {
   "cell_type": "markdown",
   "metadata": {},
   "source": [
    "### SELECT * from invoice\n",
    "### order by total desc\n",
    "### limit 1"
   ]
  },
  {
   "cell_type": "markdown",
   "metadata": {},
   "source": [
    "# 10. Sorting by computed field - מיון לפי מיקום"
   ]
  },
  {
   "cell_type": "markdown",
   "metadata": {},
   "source": [
    "## 10.1 לקחת 4 רשומות בלבד של milliseconds ו- bytes מתוך טבלת track"
   ]
  },
  {
   "cell_type": "markdown",
   "metadata": {},
   "source": [
    "### SELECT milliseconds, bytes from track limit 4"
   ]
  },
  {
   "cell_type": "markdown",
   "metadata": {},
   "source": [
    "## 10.2 לקחת את כל הרשומות של milliseconds ו- bytes מתוך טבלת track ולמיין אותן לפי הפיצ'ר השני (כלומר לפי bytes)"
   ]
  },
  {
   "cell_type": "markdown",
   "metadata": {},
   "source": [
    "### SELECT milliseconds, bytes from track\n",
    "### order by 2"
   ]
  },
  {
   "cell_type": "markdown",
   "metadata": {},
   "source": [
    "## 10.3 לקחת את כל הרשומות של milliseconds ו- bytes מתוך טבלת track ולמיין אותן לפי הפיצ'ר השני (כלומר לפי bytes*milliseconds)"
   ]
  },
  {
   "cell_type": "markdown",
   "metadata": {},
   "source": [
    "### SELECT milliseconds, bytes, bytes*milliseconds from track\n",
    "### order by bytes*milliseconds"
   ]
  },
  {
   "cell_type": "markdown",
   "metadata": {},
   "source": [
    "# 11. Count(*) - יכול לקבל בפנים איזושהי שאילתא מסוימת ואז להחזיר כמה רשומות ענו על אותה שאילתא "
   ]
  },
  {
   "cell_type": "markdown",
   "metadata": {},
   "source": [
    "## 11.1 מהו מספר הרשומות בטבלת invoice שעונות על השאילתא שה- total גבוה מ- 3 דולר"
   ]
  },
  {
   "cell_type": "markdown",
   "metadata": {},
   "source": [
    "### SELECT count(*) from invoice\n",
    "### where total > 3"
   ]
  },
  {
   "cell_type": "markdown",
   "metadata": {},
   "source": [
    "# 12. Group by - אגרגציה"
   ]
  },
  {
   "cell_type": "markdown",
   "metadata": {},
   "source": [
    "## 12.1 אנחנו רוצים לקבל מתוך טבלת invoice את ה- average total ואת ה- sum total של כל המדינות "
   ]
  },
  {
   "cell_type": "markdown",
   "metadata": {},
   "source": [
    "### SELECT billingcountry, avg(total) ,sum(total) \n",
    "### from invoice\n",
    "### group by billingcountry"
   ]
  },
  {
   "cell_type": "markdown",
   "metadata": {},
   "source": [
    "## 12.2 ואם נרצה לסנן את התוצאה בסדר יורד על ידי הפיצ'ר השני"
   ]
  },
  {
   "cell_type": "markdown",
   "metadata": {},
   "source": [
    "### SELECT billingcountry, avg(total) ,sum(total) \n",
    "### from invoice\n",
    "### group by billingcountry\n",
    "### order by 2 desc"
   ]
  },
  {
   "cell_type": "markdown",
   "metadata": {},
   "source": [
    "# 13. Having - פילטר מעל ה- Group by, כלומר הוא מאפשר לפלטר בתוך תוצאת האגרגציה"
   ]
  },
  {
   "cell_type": "markdown",
   "metadata": {},
   "source": [
    "## 13.1 אנחנו רוצים לבדוק ממוצע של invoice במדינות, אבל מה שמעניין אותנו זה לפלטר רק חשבוניות שה- total שלהן גבוה מ- 2 דולר "
   ]
  },
  {
   "cell_type": "markdown",
   "metadata": {},
   "source": [
    "### SELECT billingcountry, avg(total)\n",
    "### from invoice\n",
    "### where total > 2\n",
    "### group by billingcountry"
   ]
  },
  {
   "cell_type": "markdown",
   "metadata": {},
   "source": [
    "## 13.2 ניקח את תוצאת האגרגרציה ונציג רק את הממוצעים שגבוהים מ- 9 דולר"
   ]
  },
  {
   "cell_type": "markdown",
   "metadata": {},
   "source": [
    "### SELECT billingcountry, avg(total)\n",
    "### from invoice\n",
    "### where total > 2\n",
    "### group by billingcountry\n",
    "### having avg(total) > 9"
   ]
  },
  {
   "cell_type": "code",
   "execution_count": null,
   "metadata": {},
   "outputs": [],
   "source": []
  }
 ],
 "metadata": {
  "kernelspec": {
   "display_name": "Python 3",
   "language": "python",
   "name": "python3"
  },
  "language_info": {
   "codemirror_mode": {
    "name": "ipython",
    "version": 3
   },
   "file_extension": ".py",
   "mimetype": "text/x-python",
   "name": "python",
   "nbconvert_exporter": "python",
   "pygments_lexer": "ipython3",
   "version": "3.7.4"
  }
 },
 "nbformat": 4,
 "nbformat_minor": 4
}
